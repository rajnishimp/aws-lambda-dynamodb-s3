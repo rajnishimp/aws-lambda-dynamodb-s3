{
 "cells": [
  {
   "cell_type": "code",
   "execution_count": 1,
   "metadata": {},
   "outputs": [
    {
     "data": {
      "application/vnd.jupyter.widget-view+json": {
       "model_id": "1955d6facb8f4c8aa3200f3f17580381",
       "version_major": 2,
       "version_minor": 0
      },
      "text/plain": [
       "VBox()"
      ]
     },
     "metadata": {},
     "output_type": "display_data"
    },
    {
     "name": "stdout",
     "output_type": "stream",
     "text": [
      "Starting Spark application\n"
     ]
    },
    {
     "data": {
      "text/html": [
       "<table>\n",
       "<tr><th>ID</th><th>YARN Application ID</th><th>Kind</th><th>State</th><th>Spark UI</th><th>Driver log</th><th>Current session?</th></tr><tr><td>16</td><td>application_1592730717036_7592</td><td>pyspark</td><td>idle</td><td><a target=\"_blank\" href=\"http://ip-172-31-88-63.ec2.internal:20888/proxy/application_1592730717036_7592/\">Link</a></td><td><a target=\"_blank\" href=\"http://ip-172-31-84-191.ec2.internal:8042/node/containerlogs/container_1592730717036_7592_01_000001/livy\">Link</a></td><td>✔</td></tr></table>"
      ],
      "text/plain": [
       "<IPython.core.display.HTML object>"
      ]
     },
     "metadata": {},
     "output_type": "display_data"
    },
    {
     "data": {
      "application/vnd.jupyter.widget-view+json": {
       "model_id": "",
       "version_major": 2,
       "version_minor": 0
      },
      "text/plain": [
       "FloatProgress(value=0.0, bar_style='info', description='Progress:', layout=Layout(height='25px', width='50%'),…"
      ]
     },
     "metadata": {},
     "output_type": "display_data"
    },
    {
     "name": "stdout",
     "output_type": "stream",
     "text": [
      "SparkSession available as 'spark'.\n"
     ]
    },
    {
     "data": {
      "application/vnd.jupyter.widget-view+json": {
       "model_id": "",
       "version_major": 2,
       "version_minor": 0
      },
      "text/plain": [
       "FloatProgress(value=0.0, bar_style='info', description='Progress:', layout=Layout(height='25px', width='50%'),…"
      ]
     },
     "metadata": {},
     "output_type": "display_data"
    },
    {
     "name": "stdout",
     "output_type": "stream",
     "text": [
      "+-----------------+------------+\n",
      "|           mailid|mobilenumber|\n",
      "+-----------------+------------+\n",
      "|    raj@gmail.com|  9786453378|\n",
      "|   john@gmail.com|  3486453378|\n",
      "|  david@yahoo.com|  4586453378|\n",
      "| dinesh@yahoo.com|  9786453378|\n",
      "|  suraj@yahoo.com|  9706453378|\n",
      "|   sur@rediff.com|  9776453378|\n",
      "| rahul@rediff.com|  9676453378|\n",
      "|  david@gmail.com|  6176453378|\n",
      "|rajnish@gmail.com|  8776453378|\n",
      "| david2@gmail.com|  8776453378|\n",
      "+-----------------+------------+"
     ]
    }
   ],
   "source": [
    "from pyspark.sql import Row\n",
    "rdd = sc.textFile(\"s3://usertestdata/user.txt\")\n",
    "x = lambda a: a.split(\",\")\n",
    "df = rdd.map(x).map(lambda r: Row(r[0],r[1])).toDF([\"mailid\",\"mobilenumber\"])\n",
    "df.write.format(\"parquet\").mode(\"overwrite\").save(\"hdfs://ip-172-31-88-63.ec2.internal:8020/user/user_py.parquet\")\n",
    "df.show();"
   ]
  },
  {
   "cell_type": "code",
   "execution_count": 2,
   "metadata": {},
   "outputs": [
    {
     "data": {
      "application/vnd.jupyter.widget-view+json": {
       "model_id": "fac1aedbe32f4e6e816886f5293ccc88",
       "version_major": 2,
       "version_minor": 0
      },
      "text/plain": [
       "VBox()"
      ]
     },
     "metadata": {},
     "output_type": "display_data"
    },
    {
     "data": {
      "application/vnd.jupyter.widget-view+json": {
       "model_id": "",
       "version_major": 2,
       "version_minor": 0
      },
      "text/plain": [
       "FloatProgress(value=0.0, bar_style='info', description='Progress:', layout=Layout(height='25px', width='50%'),…"
      ]
     },
     "metadata": {},
     "output_type": "display_data"
    },
    {
     "name": "stdout",
     "output_type": "stream",
     "text": [
      "+----------+-----+\n",
      "|    mailid|count|\n",
      "+----------+-----+\n",
      "| yahoo.com|    3|\n",
      "| gmail.com|    5|\n",
      "|rediff.com|    2|\n",
      "+----------+-----+"
     ]
    }
   ],
   "source": [
    "from pyspark.sql import Row\n",
    "df = spark.read.parquet(\"hdfs://ip-172-31-88-63.ec2.internal:8020/user/user_py.parquet\")\n",
    "df = df.rdd.map(lambda x: (x[\"mailid\"].split(\"@\")[1], x[\"mobilenumber\"])).toDF([\"mailid\", \"mobilenumber\"]).groupby(\"mailid\").count()\n",
    "df.write.format(\"csv\").mode(\"overwrite\").save(\"s3://s3file4/usermaildomain.csv\");\n",
    "df.show()"
   ]
  },
  {
   "cell_type": "code",
   "execution_count": null,
   "metadata": {},
   "outputs": [],
   "source": []
  },
  {
   "cell_type": "code",
   "execution_count": null,
   "metadata": {},
   "outputs": [],
   "source": []
  }
 ],
 "metadata": {
  "kernelspec": {
   "display_name": "PySpark",
   "language": "",
   "name": "pysparkkernel"
  },
  "language_info": {
   "codemirror_mode": {
    "name": "python",
    "version": 2
   },
   "mimetype": "text/x-python",
   "name": "pyspark",
   "pygments_lexer": "python2"
  }
 },
 "nbformat": 4,
 "nbformat_minor": 4
}
